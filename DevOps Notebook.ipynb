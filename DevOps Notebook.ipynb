{
 "cells": [
  {
   "cell_type": "markdown",
   "metadata": {},
   "source": [
    "#### Initialize"
   ]
  },
  {
   "cell_type": "code",
   "execution_count": 1,
   "metadata": {
    "dotnet_interactive": {
     "language": "csharp"
    },
    "polyglot_notebook": {
     "kernelName": "csharp"
    }
   },
   "outputs": [],
   "source": [
    "import os\n",
    "from _includes.ssh_methods import *\n",
    "from _includes.scp_methods import *\n",
    "\n",
    "working_folder = \"../bash\"\n",
    "os.chdir(working_folder)\n",
    "working_folder = os.getcwd()\n",
    "\n",
    "get_key_path = lambda: os.path.join(working_folder, relative_key_path)"
   ]
  },
  {
   "cell_type": "code",
   "execution_count": 2,
   "metadata": {
    "dotnet_interactive": {
     "language": "csharp"
    },
    "polyglot_notebook": {
     "kernelName": "csharp"
    }
   },
   "outputs": [],
   "source": [
    "# Hosts\n",
    "\n",
    "# ----------------------- #\n",
    "\n",
    "relative_key_path = 'key/ssh.pem'\n",
    "\n",
    "# ----------------------- #\n",
    "\n",
    "bash_host = {\n",
    "    'ip': '192.168.0.17',\n",
    "    'port': '22',\n",
    "    'user': 'user1',\n",
    "    'key_file' : get_key_path()\n",
    "}\n",
    "\n",
    "# ----------------------- #\n",
    "\n",
    "docker_host = bash_host\n",
    "\n",
    "# ----------------------- #\n",
    "\n",
    "ansible_host = {\n",
    "    'ip' : bash_host['ip'],\n",
    "    'port' : '2221',\n",
    "    'user' : 'ansible',\n",
    "    'key_file' : bash_host['key_file']\n",
    "}"
   ]
  },
  {
   "cell_type": "markdown",
   "metadata": {},
   "source": [
    "### SCP"
   ]
  },
  {
   "cell_type": "code",
   "execution_count": 3,
   "metadata": {},
   "outputs": [],
   "source": [
    "local_path=\"./lab1/\""
   ]
  },
  {
   "cell_type": "code",
   "execution_count": 4,
   "metadata": {},
   "outputs": [],
   "source": [
    "remote_path=\"./lab2/\""
   ]
  },
  {
   "cell_type": "code",
   "execution_count": 5,
   "metadata": {
    "dotnet_interactive": {
     "language": "csharp"
    },
    "polyglot_notebook": {
     "kernelName": "csharp"
    }
   },
   "outputs": [],
   "source": [
    "file = \"install_powershell.sh\""
   ]
  },
  {
   "cell_type": "code",
   "execution_count": null,
   "metadata": {},
   "outputs": [],
   "source": [
    "# Get file from path\n",
    "fget(bash_host, remote_path + file)"
   ]
  },
  {
   "cell_type": "code",
   "execution_count": null,
   "metadata": {},
   "outputs": [],
   "source": [
    "# Put file to user home dir\n",
    "fput(bash_host, file)"
   ]
  },
  {
   "cell_type": "code",
   "execution_count": null,
   "metadata": {},
   "outputs": [],
   "source": [
    "# Put file to path\n",
    "fput(bash_host, file, remote_path)"
   ]
  },
  {
   "cell_type": "code",
   "execution_count": null,
   "metadata": {
    "dotnet_interactive": {
     "language": "csharp"
    },
    "polyglot_notebook": {
     "kernelName": "csharp"
    }
   },
   "outputs": [],
   "source": [
    "# Get folder\n",
    "dget(bash_host, remote_path)"
   ]
  },
  {
   "cell_type": "code",
   "execution_count": null,
   "metadata": {
    "dotnet_interactive": {
     "language": "csharp"
    },
    "polyglot_notebook": {
     "kernelName": "csharp"
    }
   },
   "outputs": [],
   "source": [
    "# Put folder to user home dir\n",
    "dput(bash_host, local_path)"
   ]
  },
  {
   "cell_type": "code",
   "execution_count": null,
   "metadata": {},
   "outputs": [],
   "source": [
    "# Put folder to path\n",
    "dput(bash_host, local_path, remote_path)"
   ]
  },
  {
   "cell_type": "markdown",
   "metadata": {},
   "source": [
    "### Bash"
   ]
  },
  {
   "cell_type": "code",
   "execution_count": null,
   "metadata": {
    "dotnet_interactive": {
     "language": "csharp"
    },
    "polyglot_notebook": {
     "kernelName": "csharp"
    }
   },
   "outputs": [],
   "source": [
    "ssh(bash_host)"
   ]
  },
  {
   "cell_type": "code",
   "execution_count": null,
   "metadata": {},
   "outputs": [],
   "source": [
    "cmd = 'git clone https://github.com/aksenov-fx/ansible.git'\n",
    "sh(bash_host, cmd)"
   ]
  },
  {
   "cell_type": "code",
   "execution_count": null,
   "metadata": {
    "dotnet_interactive": {
     "language": "csharp"
    },
    "polyglot_notebook": {
     "kernelName": "csharp"
    }
   },
   "outputs": [],
   "source": [
    "cmd = f'ls -l'\n",
    "sh(bash_host, cmd)"
   ]
  },
  {
   "cell_type": "code",
   "execution_count": null,
   "metadata": {},
   "outputs": [],
   "source": [
    "cmd = f'ls -l {path}'\n",
    "sh(bash_host, cmd)"
   ]
  },
  {
   "cell_type": "code",
   "execution_count": null,
   "metadata": {},
   "outputs": [],
   "source": [
    "cmd = f'mkdir -p {path}'\n",
    "sh(bash_host, cmd)"
   ]
  },
  {
   "cell_type": "code",
   "execution_count": null,
   "metadata": {
    "dotnet_interactive": {
     "language": "csharp"
    },
    "polyglot_notebook": {
     "kernelName": "csharp"
    }
   },
   "outputs": [],
   "source": [
    "cmd = f'chmod +x {file}'\n",
    "sh(bash_host, cmd)"
   ]
  },
  {
   "cell_type": "code",
   "execution_count": null,
   "metadata": {
    "dotnet_interactive": {
     "language": "csharp"
    },
    "polyglot_notebook": {
     "kernelName": "csharp"
    }
   },
   "outputs": [],
   "source": [
    "sush(bash_host, f'./{file}')"
   ]
  },
  {
   "cell_type": "markdown",
   "metadata": {},
   "source": [
    "### Docker"
   ]
  },
  {
   "cell_type": "code",
   "execution_count": null,
   "metadata": {},
   "outputs": [],
   "source": [
    "docker_hub_user = \"aksenovfx\""
   ]
  },
  {
   "cell_type": "markdown",
   "metadata": {},
   "source": [
    "#### Images"
   ]
  },
  {
   "cell_type": "code",
   "execution_count": null,
   "metadata": {},
   "outputs": [],
   "source": [
    "image = \"flask_test2\"\n",
    "image2 = \"flask_test\"\n",
    "image = f\"{docker_hub_user}/maventest\""
   ]
  },
  {
   "cell_type": "code",
   "execution_count": null,
   "metadata": {},
   "outputs": [],
   "source": [
    "cmd = f'docker pull {image}'\n",
    "sh(docker_host, cmd)"
   ]
  },
  {
   "cell_type": "code",
   "execution_count": null,
   "metadata": {},
   "outputs": [],
   "source": [
    "cmd = f\"\"\"\n",
    "    cd {path}\n",
    "    docker build -t {image} .\n",
    "\"\"\"\n",
    "sh(docker_host, cmd)"
   ]
  },
  {
   "cell_type": "code",
   "execution_count": null,
   "metadata": {},
   "outputs": [],
   "source": [
    "cmd = f'docker inspect {image}'\n",
    "sh(docker_host, cmd)"
   ]
  },
  {
   "cell_type": "markdown",
   "metadata": {},
   "source": [
    "#### Containers"
   ]
  },
  {
   "cell_type": "code",
   "execution_count": null,
   "metadata": {},
   "outputs": [],
   "source": [
    "cmd = f'docker run {image}'\n",
    "sh(docker_host, cmd)"
   ]
  },
  {
   "cell_type": "code",
   "execution_count": null,
   "metadata": {},
   "outputs": [],
   "source": [
    "cmd = f'docker run --rm {image}'\n",
    "sh(docker_host, cmd)"
   ]
  },
  {
   "cell_type": "code",
   "execution_count": null,
   "metadata": {},
   "outputs": [],
   "source": [
    "cmd = f'''\n",
    "    docker run --rm -d \\\n",
    "    -p 5432:5432 \\\n",
    "    -e POSTGRES_DB=db \\\n",
    "    -e POSTGRES_USER=user \\\n",
    "    -e POSTGRES_PASSWORD=password \\\n",
    "    {image}\n",
    "'''\n",
    "sh(docker_host, cmd)"
   ]
  },
  {
   "cell_type": "code",
   "execution_count": null,
   "metadata": {},
   "outputs": [],
   "source": [
    "cmd = f'''\n",
    "    docker run --rm -d \\\n",
    "    -p 8000:3000 \\\n",
    "    -e DATABASE_HOST=host.docker.internal \\\n",
    "    -e DATABASE_USER=user \\\n",
    "    -e DATABASE_PASSWORD=password \\\n",
    "    -e DATABASE_NAME=db \\\n",
    "    {image2}\n",
    "'''\n",
    "sh(docker_host, cmd)"
   ]
  },
  {
   "cell_type": "code",
   "execution_count": null,
   "metadata": {},
   "outputs": [],
   "source": [
    "path_local = \"/home/user1/docker-course/workbooks/05-starter-code\"\n",
    "path_remote = \"/src/app/\"\n",
    "command = \"java -cp /src/app/JavaApp.jar JavaApp\"\n",
    "\n",
    "cmd = f'''\n",
    "    docker run --rm -v {path_local}:{path_remote} {image} {command}\n",
    "'''\n",
    "\n",
    "sh(docker_host, cmd)"
   ]
  },
  {
   "cell_type": "code",
   "execution_count": null,
   "metadata": {},
   "outputs": [],
   "source": [
    "cmd = \"\"\"\n",
    "    docker commit existing-container-name new-image-name\n",
    "    docker run -d -p 8080:80 new-image-name\n",
    "\"\"\"\n",
    "sh(docker_host, cmd)"
   ]
  },
  {
   "cell_type": "markdown",
   "metadata": {},
   "source": [
    "#### Container commands"
   ]
  },
  {
   "cell_type": "code",
   "execution_count": null,
   "metadata": {},
   "outputs": [],
   "source": [
    "cmd = f'docker exec ubuntu-c ls -l'\n",
    "sh(docker_host, cmd)"
   ]
  },
  {
   "cell_type": "markdown",
   "metadata": {},
   "source": [
    "#### Compose"
   ]
  },
  {
   "cell_type": "code",
   "execution_count": null,
   "metadata": {},
   "outputs": [],
   "source": [
    "cmd = f'''\n",
    "    cd {path}\n",
    "    docker compose up -d\n",
    "'''\n",
    "sh(docker_host, cmd)"
   ]
  },
  {
   "cell_type": "code",
   "execution_count": null,
   "metadata": {},
   "outputs": [],
   "source": [
    "cmd = f\"\"\"\n",
    "    cd {path}\n",
    "    docker compose stop\n",
    "\"\"\"\n",
    "shc(bash_host, command)"
   ]
  },
  {
   "cell_type": "code",
   "execution_count": null,
   "metadata": {},
   "outputs": [],
   "source": [
    "cmd = f\"\"\"\n",
    "    cd {path}\n",
    "    docker compose start\n",
    "\"\"\"\n",
    "sh(bash_host, command)"
   ]
  },
  {
   "cell_type": "code",
   "execution_count": null,
   "metadata": {},
   "outputs": [],
   "source": [
    "cmd = f\"\"\"\n",
    "    cd {path}\n",
    "    docker compose down\n",
    "\"\"\"\n",
    "shc(bash_host, command)"
   ]
  },
  {
   "cell_type": "markdown",
   "metadata": {},
   "source": [
    "#### Info"
   ]
  },
  {
   "cell_type": "code",
   "execution_count": null,
   "metadata": {},
   "outputs": [],
   "source": [
    "cmd = f'docker ps -a'\n",
    "sh(bash_host, command)"
   ]
  },
  {
   "cell_type": "code",
   "execution_count": null,
   "metadata": {},
   "outputs": [],
   "source": [
    "cmd = f'docker logs 47f4d78a4174 --tail 10'\n",
    "sh(bash_host, command)"
   ]
  },
  {
   "cell_type": "markdown",
   "metadata": {},
   "source": [
    "#### Cleanup"
   ]
  },
  {
   "cell_type": "code",
   "execution_count": null,
   "metadata": {},
   "outputs": [],
   "source": [
    "cmd = f'docker stop 8b565f60649b0aa'\n",
    "shc(bash_host, command)"
   ]
  },
  {
   "cell_type": "code",
   "execution_count": null,
   "metadata": {},
   "outputs": [],
   "source": [
    "cmd = f\"\"\"\n",
    "    docker ps -q --filter \"ancestor=mysql/mysql-server:8.0\" | xargs docker stop\n",
    "\"\"\"\n",
    "shc(bash_host, command)"
   ]
  },
  {
   "cell_type": "code",
   "execution_count": null,
   "metadata": {},
   "outputs": [],
   "source": [
    "cmd = f'docker rm -f 2badb31af83c'\n",
    "shc(bash_host, command)"
   ]
  },
  {
   "cell_type": "code",
   "execution_count": null,
   "metadata": {},
   "outputs": [],
   "source": [
    "cmd = f'docker rmi {image}'\n",
    "shc(bash_host, command)"
   ]
  },
  {
   "cell_type": "markdown",
   "metadata": {},
   "source": [
    "#### Registry"
   ]
  },
  {
   "cell_type": "code",
   "execution_count": null,
   "metadata": {},
   "outputs": [],
   "source": [
    "cmd = f'gpg --gen-key'\n",
    "sh(bash_host, command)"
   ]
  },
  {
   "cell_type": "code",
   "execution_count": null,
   "metadata": {},
   "outputs": [],
   "source": [
    "ssh(docker_host)\n",
    "\n",
    "#gpg --gen-key\n",
    "#pass init <your_generated_gpg-id_public_key>\n",
    "#docker login -u aksenovfx"
   ]
  },
  {
   "cell_type": "code",
   "execution_count": null,
   "metadata": {},
   "outputs": [],
   "source": [
    "cmd = f'docker push {image}'\n",
    "sh(bash_host, cmd)"
   ]
  },
  {
   "cell_type": "markdown",
   "metadata": {},
   "source": [
    "### Ansible"
   ]
  },
  {
   "cell_type": "code",
   "execution_count": null,
   "metadata": {},
   "outputs": [],
   "source": [
    "# Start interactive SSH session\n",
    "ssh(ansible_host)\n",
    "\n",
    "\"\"\"\n",
    "ssh-keygen\n",
    "ssh-copy-id -i ~/.ssh/id_rsa.pub ansible@ubuntu1\n",
    "\"\"\""
   ]
  },
  {
   "cell_type": "code",
   "execution_count": null,
   "metadata": {},
   "outputs": [],
   "source": [
    "ssh(ansible_host)\n",
    "\n",
    "\"\"\"\n",
    "cd ansible/webserver\n",
    "ansible-playbook -i inventory.ini webserver-playbook.yml --ask-become-pass\n",
    "\"\"\""
   ]
  }
 ],
 "metadata": {
  "kernelspec": {
   "display_name": "Python 3",
   "language": "python",
   "name": "python3"
  },
  "language_info": {
   "codemirror_mode": {
    "name": "ipython",
    "version": 3
   },
   "file_extension": ".py",
   "mimetype": "text/x-python",
   "name": "python",
   "nbconvert_exporter": "python",
   "pygments_lexer": "ipython3",
   "version": "3.12.2"
  },
  "polyglot_notebook": {
   "kernelInfo": {
    "defaultKernelName": "csharp",
    "items": [
     {
      "aliases": [],
      "name": "csharp"
     }
    ]
   }
  }
 },
 "nbformat": 4,
 "nbformat_minor": 4
}
