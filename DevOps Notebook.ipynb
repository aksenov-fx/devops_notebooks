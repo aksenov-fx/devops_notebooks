{
 "cells": [
  {
   "cell_type": "code",
   "execution_count": 4,
   "metadata": {},
   "outputs": [],
   "source": [
    "raise Exception(\"Do not press Run all cells\")"
   ]
  },
  {
   "cell_type": "markdown",
   "metadata": {},
   "source": [
    "#### Initialize"
   ]
  },
  {
   "cell_type": "code",
   "execution_count": 1,
   "metadata": {
    "dotnet_interactive": {
     "language": "csharp"
    },
    "polyglot_notebook": {
     "kernelName": "csharp"
    }
   },
   "outputs": [],
   "source": [
    "import os\n",
    "from _includes.ssh_methods import *\n",
    "from _includes.scp_methods import *\n",
    "\n",
    "working_folder = os.path.normpath(os.path.abspath(\"../bash\"))\n",
    "os.chdir(working_folder)\n",
    "working_folder = os.getcwd() \n",
    "\n",
    "get_key_path = lambda: os.path.normpath(os.path.join(working_folder, relative_key_path))"
   ]
  },
  {
   "cell_type": "code",
   "execution_count": 2,
   "metadata": {
    "dotnet_interactive": {
     "language": "csharp"
    },
    "polyglot_notebook": {
     "kernelName": "csharp"
    }
   },
   "outputs": [],
   "source": [
    "# Hosts\n",
    "\n",
    "# ----------------------- #\n",
    "\n",
    "relative_key_path = 'key/ssh.pem'\n",
    "full_key_path = get_key_path()\n",
    "\n",
    "# ----------------------- #\n",
    "\n",
    "bash_host = {\n",
    "    'ip': '192.168.0.17',\n",
    "    'port': '22',\n",
    "    'user': 'user1',\n",
    "    'key_file' : full_key_path\n",
    "}\n",
    "\n",
    "# ----------------------- #\n",
    "\n",
    "bash_host = {\n",
    "    'ip': '192.168.0.30',\n",
    "    'port': '22',\n",
    "    'user': 'dietpi',\n",
    "    'key_file' : full_key_path\n",
    "}\n",
    "\n",
    "# ----------------------- #\n",
    "\n",
    "docker_host = bash_host\n",
    "\n",
    "# ----------------------- #\n",
    "\n",
    "ansible_host = {\n",
    "    'ip' : bash_host['ip'],\n",
    "    'port' : '2221',\n",
    "    'user' : 'ansible',\n",
    "    'key_file' : full_key_path\n",
    "}"
   ]
  },
  {
   "cell_type": "markdown",
   "metadata": {},
   "source": [
    "#### SSH"
   ]
  },
  {
   "cell_type": "raw",
   "metadata": {
    "vscode": {
     "languageId": "raw"
    }
   },
   "source": [
    "# Install openssh-server\n",
    "\n",
    "    sudo apt update\n",
    "    sudo apt install -y openssh-server\n",
    "    ufw allow ssh\n",
    "    sudo systemctl enable ssh --now"
   ]
  },
  {
   "cell_type": "raw",
   "metadata": {
    "vscode": {
     "languageId": "raw"
    }
   },
   "source": [
    "# Generate key\n",
    "    ssh-keygen"
   ]
  },
  {
   "cell_type": "raw",
   "metadata": {
    "vscode": {
     "languageId": "raw"
    }
   },
   "source": [
    "# Download and run ssh script\n",
    "\n",
    "    wget https://raw.githubusercontent.com/aksenov-fx/bash/main/install_ssh.sh\n",
    "    chmod +x install_ssh.sh\n",
    "    ./install_ssh.sh "
   ]
  },
  {
   "cell_type": "raw",
   "metadata": {
    "vscode": {
     "languageId": "raw"
    }
   },
   "source": [
    "# Copy key - bash\n",
    "    ssh-copy-id -i ~/.ssh/id_rsa.pub user@host\n",
    "\n",
    "# Copy key - Powershell\n",
    "    type $env:USERPROFILE\\.ssh\\id_rsa.pub | ssh user@host \"cat >> .ssh/authorized_keys\""
   ]
  },
  {
   "cell_type": "markdown",
   "metadata": {},
   "source": [
    "### SCP"
   ]
  },
  {
   "cell_type": "code",
   "execution_count": 3,
   "metadata": {},
   "outputs": [],
   "source": [
    "local_path=\"./lab1/\""
   ]
  },
  {
   "cell_type": "code",
   "execution_count": 5,
   "metadata": {},
   "outputs": [],
   "source": [
    "remote_path=\"ansible/webserver/\""
   ]
  },
  {
   "cell_type": "code",
   "execution_count": 31,
   "metadata": {
    "dotnet_interactive": {
     "language": "csharp"
    },
    "polyglot_notebook": {
     "kernelName": "csharp"
    }
   },
   "outputs": [],
   "source": [
    "file = \"add_disk.sh\""
   ]
  },
  {
   "cell_type": "code",
   "execution_count": 40,
   "metadata": {},
   "outputs": [],
   "source": [
    "file = \"install_microk8s_to_custom_path.sh\""
   ]
  },
  {
   "cell_type": "code",
   "execution_count": null,
   "metadata": {},
   "outputs": [],
   "source": [
    "# Get file from path\n",
    "fget(bash_host, remote_path + file)"
   ]
  },
  {
   "cell_type": "code",
   "execution_count": null,
   "metadata": {},
   "outputs": [],
   "source": [
    "# Put file to user home dir\n",
    "fput(bash_host, file)"
   ]
  },
  {
   "cell_type": "code",
   "execution_count": null,
   "metadata": {},
   "outputs": [],
   "source": [
    "cmd = f'chmod +x {file}'\n",
    "sh(bash_host, cmd)"
   ]
  },
  {
   "cell_type": "code",
   "execution_count": null,
   "metadata": {},
   "outputs": [],
   "source": [
    "# Put file to path\n",
    "fput(bash_host, file, remote_path)"
   ]
  },
  {
   "cell_type": "code",
   "execution_count": null,
   "metadata": {
    "dotnet_interactive": {
     "language": "csharp"
    },
    "polyglot_notebook": {
     "kernelName": "csharp"
    }
   },
   "outputs": [],
   "source": [
    "# Get folder\n",
    "dget(bash_host, remote_path)"
   ]
  },
  {
   "cell_type": "code",
   "execution_count": null,
   "metadata": {
    "dotnet_interactive": {
     "language": "csharp"
    },
    "polyglot_notebook": {
     "kernelName": "csharp"
    }
   },
   "outputs": [],
   "source": [
    "# Put folder to user home dir\n",
    "dput(bash_host, local_path)"
   ]
  },
  {
   "cell_type": "code",
   "execution_count": null,
   "metadata": {},
   "outputs": [],
   "source": [
    "# Put folder to path\n",
    "dput(bash_host, local_path, remote_path)"
   ]
  },
  {
   "cell_type": "markdown",
   "metadata": {},
   "source": [
    "### Bash"
   ]
  },
  {
   "cell_type": "code",
   "execution_count": null,
   "metadata": {
    "dotnet_interactive": {
     "language": "csharp"
    },
    "polyglot_notebook": {
     "kernelName": "csharp"
    }
   },
   "outputs": [],
   "source": [
    "ssh(bash_host)"
   ]
  },
  {
   "cell_type": "code",
   "execution_count": null,
   "metadata": {},
   "outputs": [],
   "source": [
    "cmd = 'git clone https://github.com/aksenov-fx/ansible.git'\n",
    "sh(bash_host, cmd)"
   ]
  },
  {
   "cell_type": "markdown",
   "metadata": {},
   "source": [
    "#### Files"
   ]
  },
  {
   "cell_type": "code",
   "execution_count": null,
   "metadata": {
    "dotnet_interactive": {
     "language": "csharp"
    },
    "polyglot_notebook": {
     "kernelName": "csharp"
    }
   },
   "outputs": [],
   "source": [
    "cmd = f'ls -l /usr/bin/snap'\n",
    "sh(bash_host, cmd)"
   ]
  },
  {
   "cell_type": "code",
   "execution_count": null,
   "metadata": {},
   "outputs": [],
   "source": [
    "cmd = f'ls -l {remote_path}'\n",
    "sh(bash_host, cmd)"
   ]
  },
  {
   "cell_type": "code",
   "execution_count": null,
   "metadata": {},
   "outputs": [],
   "source": [
    "cmd = f'mkdir -p {path}'\n",
    "sh(bash_host, cmd)"
   ]
  },
  {
   "cell_type": "code",
   "execution_count": null,
   "metadata": {
    "dotnet_interactive": {
     "language": "csharp"
    },
    "polyglot_notebook": {
     "kernelName": "csharp"
    }
   },
   "outputs": [],
   "source": [
    "cmd = f'chmod +x {file}'\n",
    "sh(bash_host, cmd)"
   ]
  },
  {
   "cell_type": "code",
   "execution_count": 42,
   "metadata": {},
   "outputs": [],
   "source": [
    "cmd = f'chmod 600 {remote_path}{file}'"
   ]
  },
  {
   "cell_type": "code",
   "execution_count": null,
   "metadata": {},
   "outputs": [],
   "source": [
    "cmd = f\"chown -R ansible:ansible {remote_path}\"\n",
    "sush(ansible_host, cmd)"
   ]
  },
  {
   "cell_type": "code",
   "execution_count": null,
   "metadata": {},
   "outputs": [],
   "source": [
    "cmd = f\"chmod -R u+w {remote_path}\"\n",
    "sush(ansible_host, cmd)"
   ]
  },
  {
   "cell_type": "code",
   "execution_count": null,
   "metadata": {
    "dotnet_interactive": {
     "language": "csharp"
    },
    "polyglot_notebook": {
     "kernelName": "csharp"
    }
   },
   "outputs": [],
   "source": [
    "sush(bash_host, f'./{file}')"
   ]
  },
  {
   "cell_type": "markdown",
   "metadata": {},
   "source": [
    "#### Packages"
   ]
  },
  {
   "cell_type": "code",
   "execution_count": null,
   "metadata": {},
   "outputs": [],
   "source": [
    "cmd = f'apt-get update'\n",
    "sush(bash_host, cmd)"
   ]
  },
  {
   "cell_type": "code",
   "execution_count": null,
   "metadata": {},
   "outputs": [],
   "source": [
    "cmd = f'apt-get upgrade'\n",
    "sush(bash_host, cmd)"
   ]
  },
  {
   "cell_type": "markdown",
   "metadata": {},
   "source": [
    "#### System info"
   ]
  },
  {
   "cell_type": "code",
   "execution_count": null,
   "metadata": {},
   "outputs": [],
   "source": [
    "cmd = 'cat /etc/os-release'\n",
    "sh(ansible_host, cmd)"
   ]
  },
  {
   "cell_type": "code",
   "execution_count": null,
   "metadata": {},
   "outputs": [],
   "source": [
    "cmd = f'cat /etc/group'\n",
    "sh(ansible_host, cmd)"
   ]
  },
  {
   "cell_type": "code",
   "execution_count": null,
   "metadata": {},
   "outputs": [],
   "source": [
    "cmd = f'''\n",
    "    echo $PATH | tr ':' '\\n'\n",
    "'''\n",
    "sh(bash_host, cmd)"
   ]
  },
  {
   "cell_type": "code",
   "execution_count": null,
   "metadata": {},
   "outputs": [],
   "source": [
    "cmd = f'ps -aux --sort=%cpu'\n",
    "sh(bash_host, cmd)"
   ]
  },
  {
   "cell_type": "code",
   "execution_count": null,
   "metadata": {},
   "outputs": [],
   "source": [
    "cmd = f'ps -aux --sort=%mem'\n",
    "sh(bash_host, cmd)"
   ]
  },
  {
   "cell_type": "code",
   "execution_count": null,
   "metadata": {},
   "outputs": [],
   "source": [
    "cmd = f'df -h'\n",
    "sh(bash_host, cmd)"
   ]
  },
  {
   "cell_type": "code",
   "execution_count": null,
   "metadata": {},
   "outputs": [],
   "source": [
    "cmd = f'free -h'\n",
    "sh(bash_host, cmd)"
   ]
  },
  {
   "cell_type": "code",
   "execution_count": null,
   "metadata": {},
   "outputs": [],
   "source": [
    "cmd = f'date'\n",
    "sh(bash_host, cmd)"
   ]
  },
  {
   "cell_type": "markdown",
   "metadata": {},
   "source": [
    "### Docker"
   ]
  },
  {
   "cell_type": "code",
   "execution_count": null,
   "metadata": {},
   "outputs": [],
   "source": [
    "cmd = f'curl https://get.docker.com | bash'\n",
    "sh(docker_host, cmd)"
   ]
  },
  {
   "cell_type": "code",
   "execution_count": null,
   "metadata": {},
   "outputs": [],
   "source": [
    "docker_hub_user = \"aksenovfx\""
   ]
  },
  {
   "cell_type": "markdown",
   "metadata": {},
   "source": [
    "#### Images"
   ]
  },
  {
   "cell_type": "code",
   "execution_count": null,
   "metadata": {},
   "outputs": [],
   "source": [
    "image = \"flask_test2\"\n",
    "image2 = \"flask_test\"\n",
    "image = f\"{docker_hub_user}/maventest\""
   ]
  },
  {
   "cell_type": "code",
   "execution_count": null,
   "metadata": {},
   "outputs": [],
   "source": [
    "cmd = f'docker pull {image}'\n",
    "sh(docker_host, cmd)"
   ]
  },
  {
   "cell_type": "code",
   "execution_count": null,
   "metadata": {},
   "outputs": [],
   "source": [
    "cmd = f'''\n",
    "    cd {path}\n",
    "    docker build -t {image} .\n",
    "'''\n",
    "sh(docker_host, cmd)"
   ]
  },
  {
   "cell_type": "code",
   "execution_count": null,
   "metadata": {},
   "outputs": [],
   "source": [
    "cmd = f'docker inspect {image}'\n",
    "sh(docker_host, cmd)"
   ]
  },
  {
   "cell_type": "markdown",
   "metadata": {},
   "source": [
    "#### Containers"
   ]
  },
  {
   "cell_type": "code",
   "execution_count": null,
   "metadata": {},
   "outputs": [],
   "source": [
    "cmd = f'docker run {image}'\n",
    "sh(docker_host, cmd)"
   ]
  },
  {
   "cell_type": "code",
   "execution_count": null,
   "metadata": {},
   "outputs": [],
   "source": [
    "cmd = f'docker run --rm {image}'\n",
    "sh(docker_host, cmd)"
   ]
  },
  {
   "cell_type": "code",
   "execution_count": null,
   "metadata": {},
   "outputs": [],
   "source": [
    "cmd = f'''\n",
    "    docker run --rm -d \\\n",
    "    -p 5432:5432 \\\n",
    "    -e POSTGRES_DB=db \\\n",
    "    -e POSTGRES_USER=user \\\n",
    "    -e POSTGRES_PASSWORD=password \\\n",
    "    {image}\n",
    "'''\n",
    "sh(docker_host, cmd)"
   ]
  },
  {
   "cell_type": "code",
   "execution_count": null,
   "metadata": {},
   "outputs": [],
   "source": [
    "cmd = f'''\n",
    "    docker run --rm -d \\\n",
    "    -p 8000:3000 \\\n",
    "    -e DATABASE_HOST=host.docker.internal \\\n",
    "    -e DATABASE_USER=user \\\n",
    "    -e DATABASE_PASSWORD=password \\\n",
    "    -e DATABASE_NAME=db \\\n",
    "    {image2}\n",
    "'''\n",
    "sh(docker_host, cmd)"
   ]
  },
  {
   "cell_type": "code",
   "execution_count": null,
   "metadata": {},
   "outputs": [],
   "source": [
    "path_local = \"/home/user1/docker-course/workbooks/05-starter-code\"\n",
    "path_remote = \"/src/app/\"\n",
    "command = \"java -cp /src/app/JavaApp.jar JavaApp\"\n",
    "\n",
    "cmd = f'''\n",
    "    docker run --rm -v {path_local}:{path_remote} {image} {command}\n",
    "'''\n",
    "\n",
    "sh(docker_host, cmd)"
   ]
  },
  {
   "cell_type": "code",
   "execution_count": null,
   "metadata": {},
   "outputs": [],
   "source": [
    "cmd = '''\n",
    "    docker commit existing-container-name new-image-name\n",
    "    docker run -d -p 8080:80 new-image-name\n",
    "'''\n",
    "sh(docker_host, cmd)"
   ]
  },
  {
   "cell_type": "markdown",
   "metadata": {},
   "source": [
    "#### Container commands"
   ]
  },
  {
   "cell_type": "code",
   "execution_count": null,
   "metadata": {},
   "outputs": [],
   "source": [
    "cmd = f'docker exec ubuntu-c ls -l'\n",
    "sh(docker_host, cmd)"
   ]
  },
  {
   "cell_type": "markdown",
   "metadata": {},
   "source": [
    "#### Compose"
   ]
  },
  {
   "cell_type": "code",
   "execution_count": null,
   "metadata": {},
   "outputs": [],
   "source": [
    "cmd = f'''\n",
    "    cd {path}\n",
    "    docker compose up -d\n",
    "'''\n",
    "sh(docker_host, cmd)"
   ]
  },
  {
   "cell_type": "code",
   "execution_count": null,
   "metadata": {},
   "outputs": [],
   "source": [
    "cmd = f'''\n",
    "    cd {path}\n",
    "    docker compose stop\n",
    "'''\n",
    "shc(bash_host, command)"
   ]
  },
  {
   "cell_type": "code",
   "execution_count": null,
   "metadata": {},
   "outputs": [],
   "source": [
    "cmd = f'''\n",
    "    cd {path}\n",
    "    docker compose start\n",
    "'''\n",
    "sh(bash_host, command)"
   ]
  },
  {
   "cell_type": "code",
   "execution_count": null,
   "metadata": {},
   "outputs": [],
   "source": [
    "cmd = f'''\n",
    "    cd {path}\n",
    "    docker compose down\n",
    "'''\n",
    "shc(bash_host, command)"
   ]
  },
  {
   "cell_type": "markdown",
   "metadata": {},
   "source": [
    "#### Info"
   ]
  },
  {
   "cell_type": "code",
   "execution_count": null,
   "metadata": {},
   "outputs": [],
   "source": [
    "cmd = f'docker ps -a'\n",
    "sh(bash_host, command)"
   ]
  },
  {
   "cell_type": "code",
   "execution_count": null,
   "metadata": {},
   "outputs": [],
   "source": [
    "cmd = f'docker logs 47f4d78a4174 --tail 10'\n",
    "sh(bash_host, command)"
   ]
  },
  {
   "cell_type": "markdown",
   "metadata": {},
   "source": [
    "#### Cleanup"
   ]
  },
  {
   "cell_type": "code",
   "execution_count": null,
   "metadata": {},
   "outputs": [],
   "source": [
    "cmd = f'docker stop 8b565f60649b0aa'\n",
    "shc(bash_host, command)"
   ]
  },
  {
   "cell_type": "code",
   "execution_count": null,
   "metadata": {},
   "outputs": [],
   "source": [
    "cmd = f'''\n",
    "    docker ps -q \\\n",
    "    --filter \"ancestor=mysql/mysql-server:8.0\" \\\n",
    "    | xargs docker stop\n",
    "'''\n",
    "shc(bash_host, command)"
   ]
  },
  {
   "cell_type": "code",
   "execution_count": null,
   "metadata": {},
   "outputs": [],
   "source": [
    "cmd = f'docker rm -f 2badb31af83c'\n",
    "shc(bash_host, command)"
   ]
  },
  {
   "cell_type": "code",
   "execution_count": null,
   "metadata": {},
   "outputs": [],
   "source": [
    "cmd = f'docker rmi {image}'\n",
    "shc(bash_host, command)"
   ]
  },
  {
   "cell_type": "markdown",
   "metadata": {},
   "source": [
    "#### Registry"
   ]
  },
  {
   "cell_type": "code",
   "execution_count": null,
   "metadata": {},
   "outputs": [],
   "source": [
    "cmd = f'gpg --gen-key'\n",
    "sh(bash_host, command)"
   ]
  },
  {
   "cell_type": "code",
   "execution_count": null,
   "metadata": {},
   "outputs": [],
   "source": [
    "ssh(docker_host)\n",
    "\n",
    "#gpg --gen-key\n",
    "#pass init <your_generated_gpg-id_public_key>\n",
    "#docker login -u aksenovfx"
   ]
  },
  {
   "cell_type": "code",
   "execution_count": null,
   "metadata": {},
   "outputs": [],
   "source": [
    "cmd = f'docker push {image}'\n",
    "sh(bash_host, cmd)"
   ]
  },
  {
   "cell_type": "markdown",
   "metadata": {},
   "source": [
    "### kubectl"
   ]
  },
  {
   "cell_type": "markdown",
   "metadata": {},
   "source": [
    "#### config"
   ]
  },
  {
   "cell_type": "code",
   "execution_count": null,
   "metadata": {},
   "outputs": [],
   "source": [
    "# install kubectl\n",
    "# https://kubernetes.io/docs/tasks/tools/install-kubectl-linux/\n",
    "\n",
    "cmd = f'''\n",
    "    curl -LO https://dl.k8s.io/release/v1.32.0/bin/linux/amd64/kubectl\n",
    "'''\n",
    "\n",
    "sh(docker_host, cmd)\n",
    "\n",
    "cmd = f'install -o root -g root -m 0755 kubectl /usr/local/bin/kubectl'\n",
    "sush(docker_host, cmd)"
   ]
  },
  {
   "cell_type": "code",
   "execution_count": null,
   "metadata": {},
   "outputs": [],
   "source": [
    "cmd = f'snap install kubectl --classic'\n",
    "sush(docker_host, cmd)"
   ]
  },
  {
   "cell_type": "markdown",
   "metadata": {},
   "source": [
    "#### info"
   ]
  },
  {
   "cell_type": "code",
   "execution_count": null,
   "metadata": {},
   "outputs": [],
   "source": [
    "cmd = f'kubectl version --client'\n",
    "sh(docker_host, cmd)"
   ]
  },
  {
   "cell_type": "code",
   "execution_count": null,
   "metadata": {},
   "outputs": [],
   "source": [
    "cmd = f'kubectl config get-contexts'\n",
    "sh(docker_host, cmd)"
   ]
  },
  {
   "cell_type": "code",
   "execution_count": null,
   "metadata": {},
   "outputs": [],
   "source": [
    "cmd = f'microk8s kubectl get namespaces'\n",
    "sh(docker_host, cmd)"
   ]
  },
  {
   "cell_type": "code",
   "execution_count": null,
   "metadata": {},
   "outputs": [],
   "source": [
    "cmd = f'''\n",
    "    microk8s kubectl get pods --all-namespaces\n",
    "'''\n",
    "sh(docker_host, cmd)"
   ]
  },
  {
   "cell_type": "markdown",
   "metadata": {},
   "source": [
    "#### update"
   ]
  },
  {
   "cell_type": "code",
   "execution_count": null,
   "metadata": {},
   "outputs": [],
   "source": [
    "#delete namespace\n",
    "cmd = f'''\n",
    "    microk8s kubectl delete namespace portainer\n",
    "'''\n",
    "shc(docker_host, cmd)"
   ]
  },
  {
   "cell_type": "markdown",
   "metadata": {},
   "source": [
    "### microk8s"
   ]
  },
  {
   "cell_type": "markdown",
   "metadata": {},
   "source": [
    "#### config"
   ]
  },
  {
   "cell_type": "code",
   "execution_count": null,
   "metadata": {},
   "outputs": [],
   "source": [
    "cmd = f'''\n",
    "    echo 'export PATH=$PATH:/snap/bin' >> ~/.bashrc\n",
    "'''\n",
    "sh(docker_host, cmd)"
   ]
  },
  {
   "cell_type": "code",
   "execution_count": null,
   "metadata": {},
   "outputs": [],
   "source": [
    "cmd = f'cat ~/.bashrc'\n",
    "sh(docker_host, cmd)"
   ]
  },
  {
   "cell_type": "code",
   "execution_count": null,
   "metadata": {},
   "outputs": [],
   "source": [
    "cmd = 'usermod -a -G microk8s dietpi && sudo chown -R dietpi ~/.kube'\n",
    "sush(docker_host, cmd)"
   ]
  },
  {
   "cell_type": "code",
   "execution_count": null,
   "metadata": {},
   "outputs": [],
   "source": [
    "cmd = f'microk8s config > client.config'\n",
    "sh(docker_host, cmd)\n",
    "fget(docker_host, 'client.config')"
   ]
  },
  {
   "cell_type": "code",
   "execution_count": null,
   "metadata": {},
   "outputs": [],
   "source": [
    "cmd = 'microk8s config > ~/.kube/config'\n",
    "sh(docker_host, cmd)"
   ]
  },
  {
   "cell_type": "code",
   "execution_count": null,
   "metadata": {},
   "outputs": [],
   "source": [
    "#enable portainer\n",
    "cmd = 'apt install -y git'\n",
    "sush(docker_host, cmd)\n",
    "\n",
    "cmd = f'''\n",
    "    git config --global --add safe.directory /snap/microk8s/current/addons/community/.git\n",
    "    microk8s enable community\n",
    "    microk8s enable portainer\n",
    "'''\n",
    "shc(docker_host, cmd)"
   ]
  },
  {
   "cell_type": "code",
   "execution_count": null,
   "metadata": {},
   "outputs": [],
   "source": [
    "cmd = f'microk8s stop'\n",
    "shc(docker_host, cmd)"
   ]
  },
  {
   "cell_type": "code",
   "execution_count": null,
   "metadata": {},
   "outputs": [],
   "source": [
    "cmd = f'microk8s start'\n",
    "sh(docker_host, cmd)"
   ]
  },
  {
   "cell_type": "markdown",
   "metadata": {},
   "source": [
    "#### info"
   ]
  },
  {
   "cell_type": "code",
   "execution_count": null,
   "metadata": {},
   "outputs": [],
   "source": [
    "cmd = f'microk8s status'\n",
    "sh(docker_host, cmd)"
   ]
  },
  {
   "cell_type": "markdown",
   "metadata": {},
   "source": [
    "### Ansible"
   ]
  },
  {
   "cell_type": "code",
   "execution_count": null,
   "metadata": {},
   "outputs": [],
   "source": [
    "ssh(ansible_host)"
   ]
  },
  {
   "cell_type": "code",
   "execution_count": null,
   "metadata": {},
   "outputs": [],
   "source": [
    "cmd = f'ansible -h'\n",
    "sh(ansible_host, cmd)"
   ]
  },
  {
   "cell_type": "code",
   "execution_count": null,
   "metadata": {},
   "outputs": [],
   "source": [
    "fput(ansible_host, \"../ansible/webserver/ansible.cfg\", remote_path)"
   ]
  },
  {
   "cell_type": "code",
   "execution_count": null,
   "metadata": {},
   "outputs": [],
   "source": [
    "cmd = f'''\n",
    "    cd {remote_path}\n",
    "    ansible all -m ping\n",
    "'''\n",
    "sh(ansible_host, cmd)"
   ]
  },
  {
   "cell_type": "code",
   "execution_count": null,
   "metadata": {},
   "outputs": [],
   "source": [
    "cmd = f'''\n",
    "    cd {remote_path}\n",
    "    ansible all -a hostname\n",
    "'''\n",
    "shc(ansible_host, cmd)"
   ]
  },
  {
   "cell_type": "code",
   "execution_count": null,
   "metadata": {},
   "outputs": [],
   "source": [
    "cmd = f'''\n",
    "    cd {remote_path}\n",
    "    ansible all -m shell -a \"hostname\"\n",
    "'''\n",
    "shc(ansible_host, cmd)"
   ]
  },
  {
   "cell_type": "code",
   "execution_count": null,
   "metadata": {},
   "outputs": [],
   "source": [
    "cmd = f'''\n",
    "    cd {remote_path}\n",
    "    ansible all -m copy -a \"src=file.txt dest=dest.txt\"\n",
    "'''\n",
    "shc(ansible_host, cmd)"
   ]
  },
  {
   "cell_type": "code",
   "execution_count": null,
   "metadata": {},
   "outputs": [],
   "source": [
    "cmd = f'''\n",
    "    cd {remote_path}\n",
    "    ansible all -m service -a \"name=httpd state=restarted\"\n",
    "'''\n",
    "shc(ansible_host, cmd)"
   ]
  },
  {
   "cell_type": "code",
   "execution_count": null,
   "metadata": {},
   "outputs": [],
   "source": [
    "cmd = f'''\n",
    "    cd {remote_path}\n",
    "    ansible-playbook webserver-playbook.yml --syntax-check\n",
    "'''\n",
    "sh(ansible_host, cmd)"
   ]
  },
  {
   "cell_type": "code",
   "execution_count": null,
   "metadata": {},
   "outputs": [],
   "source": [
    "cmd = f'''\n",
    "    cd {remote_path}\n",
    "    ansible-playbook webserver-playbook.yml\n",
    "'''\n",
    "shc(ansible_host, cmd)"
   ]
  },
  {
   "cell_type": "code",
   "execution_count": null,
   "metadata": {},
   "outputs": [],
   "source": [
    "cmd = f'''\n",
    "    cd {remote_path}\n",
    "    ansible-playbook webserver-playbook.yml\n",
    "'''\n",
    "shc(ansible_host, cmd)"
   ]
  },
  {
   "cell_type": "markdown",
   "metadata": {},
   "source": [
    "#### Other"
   ]
  },
  {
   "cell_type": "code",
   "execution_count": null,
   "metadata": {},
   "outputs": [],
   "source": [
    "cmd = 'systemctl enable systemd-timesyncd && sudo systemctl start systemd-timesyncd && timedatectl status'\n",
    "sush(docker_host, cmd)"
   ]
  },
  {
   "cell_type": "code",
   "execution_count": null,
   "metadata": {},
   "outputs": [],
   "source": [
    "cmd = 'lsblk -o NAME,FSTYPE,SIZE,MOUNTPOINT,LABEL'\n",
    "sush(docker_host, cmd)"
   ]
  },
  {
   "cell_type": "code",
   "execution_count": null,
   "metadata": {},
   "outputs": [],
   "source": [
    "cmd = f'shutdown -h now'\n",
    "sush(docker_host, cmd)"
   ]
  },
  {
   "cell_type": "code",
   "execution_count": null,
   "metadata": {},
   "outputs": [],
   "source": [
    "cmd = f'reboot'\n",
    "sush(docker_host, cmd)"
   ]
  },
  {
   "cell_type": "markdown",
   "metadata": {},
   "source": [
    "#### Temp"
   ]
  },
  {
   "cell_type": "code",
   "execution_count": null,
   "metadata": {},
   "outputs": [],
   "source": [
    "cmd = f'rm {file}'\n",
    "shc(ansible_host, cmd)"
   ]
  }
 ],
 "metadata": {
  "kernelspec": {
   "display_name": "Python 3",
   "language": "python",
   "name": "python3"
  },
  "language_info": {
   "codemirror_mode": {
    "name": "ipython",
    "version": 3
   },
   "file_extension": ".py",
   "mimetype": "text/x-python",
   "name": "python",
   "nbconvert_exporter": "python",
   "pygments_lexer": "ipython3",
   "version": "3.12.2"
  },
  "polyglot_notebook": {
   "kernelInfo": {
    "defaultKernelName": "csharp",
    "items": [
     {
      "aliases": [],
      "name": "csharp"
     }
    ]
   }
  }
 },
 "nbformat": 4,
 "nbformat_minor": 4
}
